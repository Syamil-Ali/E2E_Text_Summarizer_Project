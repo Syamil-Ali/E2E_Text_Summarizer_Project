{
 "cells": [
  {
   "cell_type": "code",
   "execution_count": null,
   "metadata": {},
   "outputs": [],
   "source": [
    "d = {\"key\": \"value\", \"key1\": \"value1\"}"
   ]
  }
 ],
 "metadata": {
  "kernelspec": {
   "display_name": "Python 3.8.16 ('text_summarize')",
   "language": "python",
   "name": "python3"
  },
  "language_info": {
   "name": "python",
   "version": "3.8.16"
  },
  "orig_nbformat": 4,
  "vscode": {
   "interpreter": {
    "hash": "8bd14337e1cd503ee410d27a7e5c121dbfbc602b9896a4a4eed5c2534544e526"
   }
  }
 },
 "nbformat": 4,
 "nbformat_minor": 2
}
